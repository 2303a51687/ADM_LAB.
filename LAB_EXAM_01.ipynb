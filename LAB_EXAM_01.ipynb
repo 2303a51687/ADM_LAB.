{
  "nbformat": 4,
  "nbformat_minor": 0,
  "metadata": {
    "colab": {
      "provenance": [],
      "authorship_tag": "ABX9TyNgh+dPZjbKdKQ4W2goE9hv",
      "include_colab_link": true
    },
    "kernelspec": {
      "name": "python3",
      "display_name": "Python 3"
    },
    "language_info": {
      "name": "python"
    }
  },
  "cells": [
    {
      "cell_type": "markdown",
      "metadata": {
        "id": "view-in-github",
        "colab_type": "text"
      },
      "source": [
        "<a href=\"https://colab.research.google.com/github/2303a51687/ADM_LAB./blob/main/LAB_EXAM_01.ipynb\" target=\"_parent\"><img src=\"https://colab.research.google.com/assets/colab-badge.svg\" alt=\"Open In Colab\"/></a>"
      ]
    },
    {
      "cell_type": "markdown",
      "source": [
        "# LAB EXAM - 01"
      ],
      "metadata": {
        "id": "whkw7bA3wt7X"
      }
    },
    {
      "cell_type": "code",
      "source": [
        "import pandas as pd"
      ],
      "metadata": {
        "id": "4k_uKKTXsFsO"
      },
      "execution_count": 2,
      "outputs": []
    },
    {
      "cell_type": "code",
      "source": [
        "df=pd.read_csv(\"/content/university_student.csv\")"
      ],
      "metadata": {
        "id": "LRh90Ej5sL3A"
      },
      "execution_count": 3,
      "outputs": []
    },
    {
      "cell_type": "code",
      "source": [
        "print(\"First 10 rows of a dataset:\")"
      ],
      "metadata": {
        "colab": {
          "base_uri": "https://localhost:8080/"
        },
        "id": "iOWStdHGsRcj",
        "outputId": "5c5e851a-7085-4799-9ceb-d8db94f361cc"
      },
      "execution_count": 4,
      "outputs": [
        {
          "output_type": "stream",
          "name": "stdout",
          "text": [
            "First 10 rows of a dataset:\n"
          ]
        }
      ]
    },
    {
      "cell_type": "code",
      "source": [
        "print(df.head(10))"
      ],
      "metadata": {
        "colab": {
          "base_uri": "https://localhost:8080/"
        },
        "id": "lYVHt8bKsbxy",
        "outputId": "17cdd592-f81c-4311-ebae-b8348a065be2"
      },
      "execution_count": 5,
      "outputs": [
        {
          "output_type": "stream",
          "name": "stdout",
          "text": [
            "   Student ID  Gender Date of Birth  Study Time Grade School Type  Absences  \\\n",
            "0           1    Male    1996-12-03          11     D      Public         2   \n",
            "1           2  Female    2001-09-15           5     D     Private         0   \n",
            "2           3    Male    2002-08-09           8     A     Private         2   \n",
            "3           4    Male    1999-04-29           8     A     Private         3   \n",
            "4           5    Male    1995-06-11           9     B     Private         1   \n",
            "5           6  Female    1995-07-21          11     A     Private         1   \n",
            "6           7    Male    2000-06-04          11     C      Public         4   \n",
            "7           8    Male    1997-09-22          15     D     Private         1   \n",
            "8           9    Male    2001-05-06           8     A      Public         4   \n",
            "9          10  Female    2005-10-09          11     A     Private         5   \n",
            "\n",
            "   Math Score  Reading Score  Writing Score  \n",
            "0          72             91             69  \n",
            "1          66             58             62  \n",
            "2          75             99             77  \n",
            "3          57             76             97  \n",
            "4          78             51             78  \n",
            "5          75             54             62  \n",
            "6          59             78             95  \n",
            "7          75             86             84  \n",
            "8          83             87             55  \n",
            "9         100             68             67  \n"
          ]
        }
      ]
    },
    {
      "cell_type": "code",
      "source": [
        "print(\"/n missing values in each column:\")"
      ],
      "metadata": {
        "colab": {
          "base_uri": "https://localhost:8080/"
        },
        "id": "PjFsKf0tsjD6",
        "outputId": "cb413b20-41e0-42c3-bf95-cfcf849725cb"
      },
      "execution_count": 6,
      "outputs": [
        {
          "output_type": "stream",
          "name": "stdout",
          "text": [
            "/n missing values in each column:\n"
          ]
        }
      ]
    },
    {
      "cell_type": "code",
      "source": [
        "print(df.isnull().sum())"
      ],
      "metadata": {
        "colab": {
          "base_uri": "https://localhost:8080/"
        },
        "id": "-O3gEmlzsrMf",
        "outputId": "9712d477-1117-4f55-889c-9368d7f45723"
      },
      "execution_count": 7,
      "outputs": [
        {
          "output_type": "stream",
          "name": "stdout",
          "text": [
            "Student ID       0\n",
            "Gender           0\n",
            "Date of Birth    0\n",
            "Study Time       0\n",
            "Grade            0\n",
            "School Type      0\n",
            "Absences         0\n",
            "Math Score       0\n",
            "Reading Score    0\n",
            "Writing Score    0\n",
            "dtype: int64\n"
          ]
        }
      ]
    },
    {
      "cell_type": "code",
      "source": [
        "df.fillna(df.mean(numeric_only=True), inplace=True)"
      ],
      "metadata": {
        "id": "kul1U5gys279"
      },
      "execution_count": 8,
      "outputs": []
    },
    {
      "cell_type": "code",
      "source": [
        "df.fillna(df.mode().iloc[0],inplace=True)"
      ],
      "metadata": {
        "id": "ytq_vZ14s2hX"
      },
      "execution_count": 9,
      "outputs": []
    },
    {
      "cell_type": "code",
      "source": [
        "df_encoded=pd.get_dummies(df,columns=['Gender','School Type'],drop_first=True)"
      ],
      "metadata": {
        "id": "N6AZOVXTtvlN"
      },
      "execution_count": 11,
      "outputs": []
    },
    {
      "cell_type": "code",
      "source": [
        "print(\"/n Dataset after one_hot encoding:\")\n",
        "print(df_encoded.head())"
      ],
      "metadata": {
        "colab": {
          "base_uri": "https://localhost:8080/"
        },
        "id": "5XlIJriBuWDa",
        "outputId": "878cdab3-a58f-49f4-9870-9e5f58688faa"
      },
      "execution_count": 12,
      "outputs": [
        {
          "output_type": "stream",
          "name": "stdout",
          "text": [
            "/n Dataset after one_hot encoding:\n",
            "   Student ID Date of Birth  Study Time Grade  Absences  Math Score  \\\n",
            "0           1    1996-12-03          11     D         2          72   \n",
            "1           2    2001-09-15           5     D         0          66   \n",
            "2           3    2002-08-09           8     A         2          75   \n",
            "3           4    1999-04-29           8     A         3          57   \n",
            "4           5    1995-06-11           9     B         1          78   \n",
            "\n",
            "   Reading Score  Writing Score  Gender_Male  School Type_Public  \n",
            "0             91             69         True                True  \n",
            "1             58             62        False               False  \n",
            "2             99             77         True               False  \n",
            "3             76             97         True               False  \n",
            "4             51             78         True               False  \n"
          ]
        }
      ]
    },
    {
      "cell_type": "code",
      "source": [
        "math_stats = df['Math Score'].agg(['mean', 'median', 'std'])\n",
        "print(\"\\nMath Score Statistics:\")\n",
        "print(math_stats)"
      ],
      "metadata": {
        "colab": {
          "base_uri": "https://localhost:8080/"
        },
        "id": "J08wkNszuoe_",
        "outputId": "2ca446ad-60bd-437d-d621-a34cd6df5a1b"
      },
      "execution_count": 14,
      "outputs": [
        {
          "output_type": "stream",
          "name": "stdout",
          "text": [
            "\n",
            "Math Score Statistics:\n",
            "mean      76.030000\n",
            "median    74.500000\n",
            "std       13.481341\n",
            "Name: Math Score, dtype: float64\n"
          ]
        }
      ]
    },
    {
      "cell_type": "code",
      "source": [
        "school_counts = df['School Type'].value_counts()\n",
        "print(\"\\nTotal number of students per School Type:\")\n",
        "print(school_counts)"
      ],
      "metadata": {
        "colab": {
          "base_uri": "https://localhost:8080/"
        },
        "id": "klQSumcLu-F5",
        "outputId": "36f84ebb-fed0-4556-85f9-2e3396486df2"
      },
      "execution_count": 15,
      "outputs": [
        {
          "output_type": "stream",
          "name": "stdout",
          "text": [
            "\n",
            "Total number of students per School Type:\n",
            "School Type\n",
            "Private    59\n",
            "Public     41\n",
            "Name: count, dtype: int64\n"
          ]
        }
      ]
    }
  ]
}